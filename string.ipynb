{
 "cells": [
  {
   "cell_type": "code",
   "execution_count": 1,
   "metadata": {},
   "outputs": [
    {
     "name": "stdout",
     "output_type": "stream",
     "text": [
      "Hello world\n"
     ]
    }
   ],
   "source": [
    "print(\"Hello world\");"
   ]
  },
  {
   "cell_type": "code",
   "execution_count": 2,
   "metadata": {},
   "outputs": [
    {
     "name": "stdout",
     "output_type": "stream",
     "text": [
      "hello world \n",
      "hello sakir \n",
      "Hello Badshah\n"
     ]
    }
   ],
   "source": [
    "print(\"hello world \")\n",
    "print(\"hello sakir \")\n",
    "print(\"Hello Badshah\")"
   ]
  },
  {
   "cell_type": "code",
   "execution_count": 7,
   "metadata": {},
   "outputs": [
    {
     "name": "stdout",
     "output_type": "stream",
     "text": [
      "i like eat mango\n",
      "i like eat pinapple\n",
      "i like eat \n",
      "\n",
      " orange\n",
      "i like to \n",
      "\n",
      "\n",
      "\n",
      "\n",
      "\n",
      "eat guava\n"
     ]
    }
   ],
   "source": [
    "print(\"i like eat mango\")\n",
    "print('i like eat pinapple')\n",
    "print(\"\"\"i like eat \n",
    "\n",
    " orange\"\"\")\n",
    "print('''i like to \n",
    "\n",
    "\n",
    "\n",
    "\n",
    "\n",
    "eat guava''')"
   ]
  },
  {
   "cell_type": "code",
   "execution_count": 13,
   "metadata": {},
   "outputs": [
    {
     "name": "stdout",
     "output_type": "stream",
     "text": [
      "apple - orange - mango\n",
      "This is Sakir\n"
     ]
    }
   ],
   "source": [
    "print(\"apple\", \"orange\", \"mango\", sep=\" - \")\n",
    "print(\"This is Sakir\")"
   ]
  },
  {
   "cell_type": "code",
   "execution_count": 17,
   "metadata": {},
   "outputs": [
    {
     "name": "stdout",
     "output_type": "stream",
     "text": [
      "apple - orange - mango\n",
      "\n",
      "\n",
      "This is Sakir\n"
     ]
    }
   ],
   "source": [
    "print(\"apple\", \"orange\", \"mango\", sep=\" - \", end=\"\\n\\n\\n\")\n",
    "print(\"This is Sakir\")"
   ]
  },
  {
   "cell_type": "code",
   "execution_count": 19,
   "metadata": {},
   "outputs": [
    {
     "name": "stdout",
     "output_type": "stream",
     "text": [
      "apple - orange - mango This is Sakir\n"
     ]
    }
   ],
   "source": [
    "print(\"apple\", \"orange\", \"mango\", sep=\" - \", end=\" \")\n",
    "print(\"This is Sakir\")"
   ]
  },
  {
   "cell_type": "code",
   "execution_count": 20,
   "metadata": {},
   "outputs": [
    {
     "name": "stdout",
     "output_type": "stream",
     "text": [
      "apple - orange - mango This is Sakir\n",
      "This is python \n",
      "ew batch\n"
     ]
    }
   ],
   "source": [
    "print(\"apple\", \"orange\", \"mango\", sep=\" - \", end=\" \")\n",
    "print(\"This is Sakir\")\n",
    "print(\"This is python \\new batch\")"
   ]
  },
  {
   "cell_type": "code",
   "execution_count": 21,
   "metadata": {},
   "outputs": [
    {
     "name": "stdout",
     "output_type": "stream",
     "text": [
      "This is sakir's laptop\n"
     ]
    }
   ],
   "source": [
    "print('This is sakir\\'s laptop')"
   ]
  },
  {
   "cell_type": "code",
   "execution_count": 22,
   "metadata": {},
   "outputs": [
    {
     "name": "stdout",
     "output_type": "stream",
     "text": [
      "You are \"intelligent\"\n"
     ]
    }
   ],
   "source": [
    "print(\"You are \\\"intelligent\\\"\")"
   ]
  },
  {
   "cell_type": "code",
   "execution_count": 23,
   "metadata": {},
   "outputs": [
    {
     "name": "stdout",
     "output_type": "stream",
     "text": [
      "You are \"intelligent\"\n"
     ]
    }
   ],
   "source": [
    "print('You are \"intelligent\"')"
   ]
  },
  {
   "cell_type": "code",
   "execution_count": 24,
   "metadata": {},
   "outputs": [
    {
     "name": "stdout",
     "output_type": "stream",
     "text": [
      "i like to have \tea\n"
     ]
    }
   ],
   "source": [
    "print(\"i like to have \\tea\")"
   ]
  },
  {
   "cell_type": "code",
   "execution_count": 25,
   "metadata": {},
   "outputs": [
    {
     "name": "stdout",
     "output_type": "stream",
     "text": [
      "i amold enouth to fight\n"
     ]
    }
   ],
   "source": [
    "print(\"i am \\bold enouth to fight\")"
   ]
  },
  {
   "cell_type": "code",
   "execution_count": 26,
   "metadata": {},
   "outputs": [
    {
     "name": "stdout",
     "output_type": "stream",
     "text": [
      " i like to have \tea and i amold to fight\n"
     ]
    }
   ],
   "source": [
    "print(\" i like to have \\tea and i am \\bold to fight\")"
   ]
  },
  {
   "cell_type": "code",
   "execution_count": 27,
   "metadata": {},
   "outputs": [
    {
     "name": "stdout",
     "output_type": "stream",
     "text": [
      " i like to have \\tea and i am \\bold to fight\n"
     ]
    }
   ],
   "source": [
    "print(r\" i like to have \\tea and i am \\bold to fight\")"
   ]
  },
  {
   "cell_type": "code",
   "execution_count": 28,
   "metadata": {},
   "outputs": [
    {
     "name": "stdout",
     "output_type": "stream",
     "text": [
      "C:\\Users\\Sakir\\OneDrive\\Desktop\\WE6PM\\python\n"
     ]
    }
   ],
   "source": [
    "print(r\"C:\\Users\\Sakir\\OneDrive\\Desktop\\WE6PM\\python\")"
   ]
  },
  {
   "cell_type": "code",
   "execution_count": null,
   "metadata": {},
   "outputs": [],
   "source": []
  }
 ],
 "metadata": {
  "kernelspec": {
   "display_name": "Python 3",
   "language": "python",
   "name": "python3"
  },
  "language_info": {
   "codemirror_mode": {
    "name": "ipython",
    "version": 3
   },
   "file_extension": ".py",
   "mimetype": "text/x-python",
   "name": "python",
   "nbconvert_exporter": "python",
   "pygments_lexer": "ipython3",
   "version": "3.11.3"
  },
  "orig_nbformat": 4
 },
 "nbformat": 4,
 "nbformat_minor": 2
}
